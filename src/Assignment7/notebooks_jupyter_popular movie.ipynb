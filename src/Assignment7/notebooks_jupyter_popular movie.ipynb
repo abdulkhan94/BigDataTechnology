{
 "cells": [
  {
   "cell_type": "markdown",
   "metadata": {},
   "source": [
    "### Please use PySpark kernel for this notebook"
   ]
  },
  {
   "cell_type": "code",
   "execution_count": 1,
   "metadata": {},
   "outputs": [],
   "source": [
    "lines = sc.textFile(\"gs://abdul-pyspark/notebooks/jupyter/ml-100k/u.data\")"
   ]
  },
  {
   "cell_type": "markdown",
   "metadata": {},
   "source": [
    "##### Create a Pipelined/Pair RDD with (Movie ID, Weighted Rating)"
   ]
  },
  {
   "cell_type": "code",
   "execution_count": 2,
   "metadata": {},
   "outputs": [],
   "source": [
    "w_rating = {5:1.25, 4:1.15, 3:1, 2:0.9, 1:0.7}\n",
    "rating_bc = sc.broadcast(w_rating)"
   ]
  },
  {
   "cell_type": "code",
   "execution_count": 3,
   "metadata": {},
   "outputs": [
    {
     "data": {
      "text/plain": [
       "0.9"
      ]
     },
     "execution_count": 3,
     "metadata": {},
     "output_type": "execute_result"
    }
   ],
   "source": [
    "rating_bc.value[2]"
   ]
  },
  {
   "cell_type": "code",
   "execution_count": 4,
   "metadata": {},
   "outputs": [],
   "source": [
    "movies = lines.map(lambda x: (int(x.split()[1]), int(x.split()[2])))\n"
   ]
  },
  {
   "cell_type": "code",
   "execution_count": 5,
   "metadata": {},
   "outputs": [],
   "source": [
    "w_movies = movies.map(lambda x: (x[0], rating_bc.value[x[1]]))"
   ]
  },
  {
   "cell_type": "code",
   "execution_count": 6,
   "metadata": {},
   "outputs": [
    {
     "data": {
      "text/plain": [
       "pyspark.rdd.PipelinedRDD"
      ]
     },
     "execution_count": 6,
     "metadata": {},
     "output_type": "execute_result"
    }
   ],
   "source": [
    "movieCounts = w_movies.reduceByKey(lambda x, y: x + y)\n",
    "\n",
    "type(movieCounts)"
   ]
  },
  {
   "cell_type": "code",
   "execution_count": 7,
   "metadata": {},
   "outputs": [
    {
     "data": {
      "text/plain": [
       "1682"
      ]
     },
     "execution_count": 7,
     "metadata": {},
     "output_type": "execute_result"
    }
   ],
   "source": [
    "movieCounts.count()"
   ]
  },
  {
   "cell_type": "code",
   "execution_count": 8,
   "metadata": {},
   "outputs": [],
   "source": [
    "#movieCounts.collect()"
   ]
  },
  {
   "cell_type": "markdown",
   "metadata": {},
   "source": [
    "### Loading movie names"
   ]
  },
  {
   "cell_type": "code",
   "execution_count": 9,
   "metadata": {},
   "outputs": [],
   "source": [
    "def load_movie_names():\n",
    "    names = {}\n",
    "    # the path below doesn't work as a \"local\" function on the cluster master VM\n",
    "    with open(\"/home/abdullahkhan/u.item\", encoding='ISO-8859-1') as f:\n",
    "        for line in f:\n",
    "            tokens = line.strip().split(\"|\")\n",
    "            names[int(tokens[0])] = tokens[1]\n",
    "    return names"
   ]
  },
  {
   "cell_type": "code",
   "execution_count": 10,
   "metadata": {},
   "outputs": [],
   "source": [
    "names = load_movie_names()"
   ]
  },
  {
   "cell_type": "markdown",
   "metadata": {},
   "source": [
    "##### Create a broadcast variable for the movie name dict"
   ]
  },
  {
   "cell_type": "code",
   "execution_count": 11,
   "metadata": {},
   "outputs": [],
   "source": [
    "names_bc = sc.broadcast(names)"
   ]
  },
  {
   "cell_type": "code",
   "execution_count": 12,
   "metadata": {},
   "outputs": [],
   "source": [
    "movieCountsWithNames = movieCounts.map(lambda x : (names_bc.value[x[0]], x[1]))"
   ]
  },
  {
   "cell_type": "code",
   "execution_count": null,
   "metadata": {},
   "outputs": [],
   "source": [
    "#movieCountsWithNames.collect()"
   ]
  },
  {
   "cell_type": "code",
   "execution_count": 13,
   "metadata": {},
   "outputs": [],
   "source": [
    "sortedResultsWithNames = movieCountsWithNames.sortBy(lambda x: x[1], ascending=False).collect()"
   ]
  },
  {
   "cell_type": "code",
   "execution_count": 14,
   "metadata": {},
   "outputs": [
    {
     "name": "stdout",
     "output_type": "stream",
     "text": [
      "('Star Wars (1977)', 686.3499999999992)\n",
      "('Fargo (1996)', 585.5999999999999)\n",
      "('Return of the Jedi (1983)', 576.2500000000002)\n",
      "('Contact (1997)', 565.9000000000004)\n",
      "('English Patient, The (1996)', 524.5000000000005)\n",
      "('Scream (1996)', 508.2000000000006)\n",
      "('Toy Story (1995)', 506.9500000000006)\n",
      "('Liar Liar (1997)', 497.75000000000045)\n",
      "('Raiders of the Lost Ark (1981)', 489.3000000000006)\n",
      "('Godfather, The (1972)', 482.9500000000006)\n"
     ]
    }
   ],
   "source": [
    "for i in range(10):\n",
    "    print(sortedResultsWithNames[i])"
   ]
  },
  {
   "cell_type": "code",
   "execution_count": null,
   "metadata": {},
   "outputs": [],
   "source": []
  }
 ],
 "metadata": {
  "kernelspec": {
   "display_name": "PySpark",
   "language": "python",
   "name": "pyspark"
  },
  "language_info": {
   "codemirror_mode": {
    "name": "ipython",
    "version": 3
   },
   "file_extension": ".py",
   "mimetype": "text/x-python",
   "name": "python",
   "nbconvert_exporter": "python",
   "pygments_lexer": "ipython3",
   "version": "3.7.4"
  }
 },
 "nbformat": 4,
 "nbformat_minor": 4
}