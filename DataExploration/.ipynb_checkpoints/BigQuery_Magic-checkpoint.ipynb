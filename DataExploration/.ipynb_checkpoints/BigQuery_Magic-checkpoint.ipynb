{
 "cells": [
  {
   "cell_type": "markdown",
   "metadata": {},
   "source": [
    "#### BigQuery magic in Jupyter notebooks"
   ]
  },
  {
   "cell_type": "code",
   "execution_count": null,
   "metadata": {},
   "outputs": [],
   "source": [
    "%load_ext google.cloud.bigquery\n",
    "\n",
    "import matplotlib.pyplot  as plt\n",
    "import pandas as pd"
   ]
  },
  {
   "cell_type": "markdown",
   "metadata": {},
   "source": [
    "#### Some pandas display settings"
   ]
  },
  {
   "cell_type": "code",
   "execution_count": null,
   "metadata": {},
   "outputs": [],
   "source": [
    "# Default value of display.max_rows is 10 i.e. at max 10 rows will be printed.\n",
    "# Set it None to display all rows in the dataframe\n",
    "pd.set_option('display.max_rows', None)\n",
    "\n",
    "# Set it to None to display all columns in the dataframe\n",
    "pd.set_option('display.max_columns', None)\n",
    "\n",
    "# Width of the display in characters. If set to None and pandas will correctly auto-detect the width.\n",
    "pd.set_option('display.width', None)\n",
    "\n",
    "# The maximum width in characters of a column in the repr of a pandas data structure\n",
    "pd.set_option('display.max_colwidth', None)"
   ]
  },
  {
   "cell_type": "markdown",
   "metadata": {},
   "source": [
    "#### Pull data from BigQuery and load it into a dataframe"
   ]
  },
  {
   "cell_type": "code",
   "execution_count": null,
   "metadata": {},
   "outputs": [],
   "source": [
    "%%bigquery df_countries\n",
    "\n",
    "SELECT\n",
    "  *\n",
    "FROM\n",
    "  `bigquery-public-data.covid19_ecdc.covid_19_geographic_distribution_worldwide`\n",
    "WHERE\n",
    "  date >= \"2020-01-01\"\n",
    "  AND country_territory_code in (\"USA\", \"FRA\", \"GBR\", \"ITA\", \"ESP\", \"DEU\", \"CAN\")\n",
    "ORDER BY date"
   ]
  },
  {
   "cell_type": "code",
   "execution_count": null,
   "metadata": {},
   "outputs": [],
   "source": [
    "df_countries"
   ]
  },
  {
   "cell_type": "markdown",
   "metadata": {},
   "source": [
    "#### Look at daily cases in the United States only"
   ]
  },
  {
   "cell_type": "code",
   "execution_count": null,
   "metadata": {},
   "outputs": [],
   "source": [
    "df_usa = df_countries[df_countries.country_territory_code == \"USA\"]\n",
    "df_usa"
   ]
  },
  {
   "cell_type": "code",
   "execution_count": null,
   "metadata": {},
   "outputs": [],
   "source": [
    "df_usa.plot(kind=\"bar\", x=\"date\", y=\"daily_confirmed_cases\", figsize=(18, 12))  # all data"
   ]
  },
  {
   "cell_type": "code",
   "execution_count": null,
   "metadata": {},
   "outputs": [],
   "source": [
    "df_usa[df_usa.month >= 9].plot(kind=\"bar\", x=\"date\", y=\"daily_confirmed_cases\", figsize=(18, 12))  # only from September on"
   ]
  },
  {
   "cell_type": "code",
   "execution_count": null,
   "metadata": {},
   "outputs": [],
   "source": [
    "df_usa[(df_usa.month >= 4) & (df_usa.month < 7)].plot(kind=\"bar\", x=\"date\", y=\"daily_confirmed_cases\", figsize=(18, 12))  # only fro April - June"
   ]
  },
  {
   "cell_type": "markdown",
   "metadata": {},
   "source": [
    "#### Look at both daily cases and daily deaths"
   ]
  },
  {
   "cell_type": "code",
   "execution_count": null,
   "metadata": {},
   "outputs": [],
   "source": [
    "df_usa[df_usa.month >= 9].plot(kind=\"bar\", x=\"date\", y=[\"daily_confirmed_cases\", \"daily_deaths\"], figsize=(18, 12))  # only fro April - June"
   ]
  },
  {
   "cell_type": "code",
   "execution_count": null,
   "metadata": {},
   "outputs": [],
   "source": [
    "df_usa[df_usa.month >= 9].plot(kind=\"bar\", x=\"date\", y=[\"daily_confirmed_cases\", \"daily_deaths\"], stacked=True, figsize=(18, 12))  # only fro April - June"
   ]
  },
  {
   "cell_type": "markdown",
   "metadata": {},
   "source": [
    "#### Now, look at all countries but focus on only a few columns"
   ]
  },
  {
   "cell_type": "code",
   "execution_count": null,
   "metadata": {},
   "outputs": [],
   "source": [
    "df_countries2 = df_countries[['date', 'day', 'month', 'year', 'daily_confirmed_cases', 'daily_deaths', 'country_territory_code', 'pop_data_2019']]"
   ]
  },
  {
   "cell_type": "code",
   "execution_count": null,
   "metadata": {},
   "outputs": [],
   "source": [
    "df_countries2"
   ]
  },
  {
   "cell_type": "markdown",
   "metadata": {},
   "source": [
    "#### Group data by month"
   ]
  },
  {
   "cell_type": "code",
   "execution_count": null,
   "metadata": {},
   "outputs": [],
   "source": [
    "df_by_month = df_countries2.groupby(['month']).agg({'daily_confirmed_cases': sum, 'daily_deaths':sum, 'pop_data_2019':max})\n",
    "df_by_month"
   ]
  },
  {
   "cell_type": "code",
   "execution_count": null,
   "metadata": {},
   "outputs": [],
   "source": [
    "df_by_month.plot(kind=\"bar\", y=[\"daily_confirmed_cases\", \"daily_deaths\"], stacked=True, figsize=(18, 12))"
   ]
  },
  {
   "cell_type": "markdown",
   "metadata": {},
   "source": [
    "#### Group data by month and country"
   ]
  },
  {
   "cell_type": "code",
   "execution_count": null,
   "metadata": {},
   "outputs": [],
   "source": [
    "df_by_month_country = df_countries2.groupby(['month', 'country_territory_code']).agg({'daily_confirmed_cases': sum, 'daily_deaths':sum, 'pop_data_2019':max})\n",
    "df_by_month_country"
   ]
  },
  {
   "cell_type": "code",
   "execution_count": null,
   "metadata": {},
   "outputs": [],
   "source": [
    "df_by_month_country.index"
   ]
  },
  {
   "cell_type": "markdown",
   "metadata": {},
   "source": [
    "#### Retrieve data for different cases"
   ]
  },
  {
   "cell_type": "code",
   "execution_count": null,
   "metadata": {},
   "outputs": [],
   "source": [
    "df_by_month_country.loc[(1,), ]   # data for January"
   ]
  },
  {
   "cell_type": "code",
   "execution_count": null,
   "metadata": {},
   "outputs": [],
   "source": [
    "df_by_month_country.loc[(range(1,11),\"USA\"), ]    # data for USA from January - November"
   ]
  },
  {
   "cell_type": "code",
   "execution_count": null,
   "metadata": {},
   "outputs": [],
   "source": [
    "df_by_month_country_unstack = df_by_month_country.unstack()\n",
    "df_by_month_country_unstack"
   ]
  },
  {
   "cell_type": "code",
   "execution_count": null,
   "metadata": {},
   "outputs": [],
   "source": [
    "df_by_month_country_unstack.plot(kind='bar', y=['daily_confirmed_cases', 'daily_deaths'], figsize=(18, 12))"
   ]
  },
  {
   "cell_type": "code",
   "execution_count": null,
   "metadata": {},
   "outputs": [],
   "source": [
    "df_by_month_country_unstack.plot(kind='bar', y=['daily_confirmed_cases', 'daily_deaths'], figsize=(18, 12))  # log scale\n",
    "plt.yscale('log')"
   ]
  },
  {
   "cell_type": "markdown",
   "metadata": {},
   "source": [
    "#### make 2 subplots instead"
   ]
  },
  {
   "cell_type": "code",
   "execution_count": null,
   "metadata": {},
   "outputs": [],
   "source": [
    "fig, axes = plt.subplots(nrows=1, ncols=2, figsize=(18, 12))\n",
    "df_by_month_country_unstack['daily_confirmed_cases'].plot(kind='bar', ax=axes[0])\n",
    "df_by_month_country_unstack['daily_deaths'].plot(kind='bar',ax=axes[1])"
   ]
  },
  {
   "cell_type": "markdown",
   "metadata": {},
   "source": [
    "#### Add a couple computed quantities - population-normalized daily cases & deaths"
   ]
  },
  {
   "cell_type": "code",
   "execution_count": null,
   "metadata": {},
   "outputs": [],
   "source": [
    "df_by_month_country['daily_cases_by_1M'] = df_by_month_country['daily_confirmed_cases']/df_by_month_country['pop_data_2019']*1e6\n",
    "df_by_month_country['daily_death_by_1M'] = df_by_month_country['daily_deaths']/df_by_month_country['pop_data_2019']*1e6"
   ]
  },
  {
   "cell_type": "code",
   "execution_count": null,
   "metadata": {},
   "outputs": [],
   "source": [
    "df_by_month_country"
   ]
  },
  {
   "cell_type": "markdown",
   "metadata": {},
   "source": [
    "#### Rearrange columns..."
   ]
  },
  {
   "cell_type": "code",
   "execution_count": null,
   "metadata": {},
   "outputs": [],
   "source": [
    "df_by_month_country = df_by_month_country.reindex(\n",
    "        columns=[\"daily_confirmed_cases\", \"daily_deaths\", \"daily_cases_by_1M\", \"daily_death_by_1M\", \"pop_data_2019\"])\n",
    "\n",
    "df_by_month_country"
   ]
  }
 ],
 "metadata": {
  "kernelspec": {
   "display_name": "Python 3",
   "language": "python",
   "name": "python3"
  },
  "language_info": {
   "codemirror_mode": {
    "name": "ipython",
    "version": 3
   },
   "file_extension": ".py",
   "mimetype": "text/x-python",
   "name": "python",
   "nbconvert_exporter": "python",
   "pygments_lexer": "ipython3",
   "version": "3.8.5"
  }
 },
 "nbformat": 4,
 "nbformat_minor": 4
}
