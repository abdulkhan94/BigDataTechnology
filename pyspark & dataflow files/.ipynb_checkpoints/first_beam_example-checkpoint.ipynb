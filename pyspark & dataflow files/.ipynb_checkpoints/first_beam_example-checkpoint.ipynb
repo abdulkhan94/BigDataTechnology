{
 "cells": [
  {
   "cell_type": "markdown",
   "metadata": {},
   "source": [
    "### Running a \"local\" batch job"
   ]
  },
  {
   "cell_type": "code",
   "execution_count": null,
   "metadata": {},
   "outputs": [],
   "source": [
    "import apache_beam as beam\n",
    "import csv\n",
    "\n",
    "\n",
    "with beam.Pipeline('DirectRunner') as pipeline:\n",
    "\n",
    "  airports = (pipeline\n",
    "     | beam.io.ReadFromText('gs://echan-dataflow/airports.csv.gz')\n",
    "     | beam.Map(lambda line: next(csv.reader([line])))\n",
    "     | beam.Map(lambda fields: (fields[0], fields[21], fields[26]))\n",
    "  )\n",
    "\n",
    "  (airports \n",
    "     | beam.Map(lambda airport_data: f'{airport_data[0]},{airport_data[1]},{airport_data[2]}')\n",
    "     | beam.io.WriteToText('gs://echan-dataflow/extracted_airports')\n",
    "  )\n",
    "\n",
    "  pipeline.run()"
   ]
  },
  {
   "cell_type": "markdown",
   "metadata": {},
   "source": [
    "### Launching batch job to Google Dataflow"
   ]
  },
  {
   "cell_type": "code",
   "execution_count": null,
   "metadata": {},
   "outputs": [],
   "source": [
    "from apache_beam.options import pipeline_options\n",
    "from apache_beam.options.pipeline_options import GoogleCloudOptions\n",
    "from apache_beam.runners import DataflowRunner\n",
    "import google.auth\n",
    "# import csv\n",
    "\n",
    "\n",
    "options = pipeline_options.PipelineOptions(flags=[])\n",
    "\n",
    "_, options.view_as(GoogleCloudOptions).project = google.auth.default()\n",
    "options.view_as(GoogleCloudOptions).job_name = 'my-first-dataflow'\n",
    "options.view_as(GoogleCloudOptions).region = 'us-west1'\n",
    "options.view_as(GoogleCloudOptions).staging_location = 'gs://echan-dataflow/staging'\n",
    "options.view_as(GoogleCloudOptions).temp_location = 'gs://echan-dataflow/temp'\n",
    "# options.view_as(SetupOptions).save_main_session=True\n",
    "options.view_as(pipeline_options.SetupOptions).sdk_location = (\n",
    "    f'/root/apache-beam-custom/packages/beam/sdks/python/dist/apache-beam-{beam.version.__version__}0.tar.gz' )\n",
    "\n",
    "\n",
    "with beam.Pipeline(options=options) as pipeline:\n",
    "\n",
    "  airports = (pipeline\n",
    "     | beam.io.ReadFromText('gs://echan-dataflow/airports.csv.gz')\n",
    "     | beam.Map(lambda line: line.strip().split(\",\"))\n",
    "     | beam.Map(lambda fields: (fields[0], fields[-12], fields[-7]))\n",
    "  )\n",
    "\n",
    "  (airports \n",
    "     | beam.Map(lambda airport_data: f'{airport_data[0]},{airport_data[1]},{airport_data[2]}')\n",
    "     | beam.io.WriteToText('gs://echan-dataflow/extracted_airports_cloud')\n",
    "  )\n",
    "\n",
    "  DataflowRunner().run_pipeline(pipeline, options=options)"
   ]
  }
 ],
 "metadata": {
  "kernelspec": {
   "display_name": "Apache Beam 2.25.0.dev0 for Python 3",
   "language": "python",
   "name": "python3"
  },
  "language_info": {
   "codemirror_mode": {
    "name": "ipython",
    "version": 3
   },
   "file_extension": ".py",
   "mimetype": "text/x-python",
   "name": "python",
   "nbconvert_exporter": "python",
   "pygments_lexer": "ipython3",
   "version": "3.7.6"
  }
 },
 "nbformat": 4,
 "nbformat_minor": 4
}
