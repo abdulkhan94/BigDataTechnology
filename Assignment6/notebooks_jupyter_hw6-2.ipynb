{
 "cells": [
  {
   "cell_type": "code",
   "execution_count": 1,
   "metadata": {},
   "outputs": [],
   "source": [
    "from pyspark.sql import SparkSession\n",
    "from pyspark.sql import functions as sqlfunc\n",
    "from pyspark.sql.functions import monotonically_increasing_id as idd  # Needed to import this to add index values to data frames utilized in merging\n",
    "\n",
    "spark = SparkSession.builder \\\n",
    "    .appName('DATA288 HW6-2') \\\n",
    "    .config('spark.jars.packages', 'com.google.cloud.spark:spark-bigquery-with-dependencies_2.12:0.17.3') \\\n",
    "    .getOrCreate()"
   ]
  },
  {
   "cell_type": "markdown",
   "metadata": {},
   "source": [
    "## Reading data from BigQuery & storing to cache for faster processing"
   ]
  },
  {
   "cell_type": "markdown",
   "metadata": {},
   "source": [
    "##### When filtering the data I used <bold>trip_end_timestamp</bold> even for the start filter since I assumed if a ride starts on 2020-09-04 and ends 2020-09-05 00:01 for a single minute that ride did occur on that date in which case it should count towards the numbers - the difference is about 3964 records instead of 3945 records if I consider only trips that start on 2020-09-05"
   ]
  },
  {
   "cell_type": "code",
   "execution_count": 2,
   "metadata": {},
   "outputs": [
    {
     "data": {
      "text/plain": [
       "DataFrame[unique_key: string, taxi_id: string, trip_start_timestamp: timestamp, trip_end_timestamp: timestamp, trip_seconds: bigint, trip_miles: double, pickup_census_tract: bigint, dropoff_census_tract: bigint, pickup_community_area: bigint, dropoff_community_area: bigint, fare: double, tips: double, tolls: double, extras: double, trip_total: double, payment_type: string, company: string, pickup_latitude: double, pickup_longitude: double, pickup_location: string, dropoff_latitude: double, dropoff_longitude: double, dropoff_location: string]"
      ]
     },
     "execution_count": 2,
     "metadata": {},
     "output_type": "execute_result"
    }
   ],
   "source": [
    "table = \"bigquery-public-data.chicago_taxi_trips.taxi_trips\"\n",
    "\n",
    "taxi_data = spark.read \\\n",
    "    .format(\"bigquery\") \\\n",
    "    .option(\"table\", table) \\\n",
    "    .option(\"filter\", \"trip_end_timestamp >= '2020-09-05' AND trip_end_timestamp < '2020-09-08'\") \\\n",
    "    .load()\n",
    "\n",
    "taxi_data.cache()\n"
   ]
  },
  {
   "cell_type": "markdown",
   "metadata": {},
   "source": [
    "## Filtering data & printing total rows"
   ]
  },
  {
   "cell_type": "code",
   "execution_count": 3,
   "metadata": {},
   "outputs": [
    {
     "name": "stdout",
     "output_type": "stream",
     "text": [
      "The total count is 3964\n"
     ]
    }
   ],
   "source": [
    "answer = taxi_data \\\n",
    "    .select(\"trip_end_timestamp\", \"trip_seconds\", \"trip_miles\", \"fare\") \\\n",
    "    .where(\"trip_miles > 5 AND fare > 0\") # Setting up answer & filtering for fare and trip miles\n",
    "\n",
    "print(f\"The total count is {answer.count()}\") "
   ]
  },
  {
   "cell_type": "code",
   "execution_count": 4,
   "metadata": {},
   "outputs": [],
   "source": [
    "avg_seconds = answer.agg(sqlfunc.avg('trip_seconds').alias('avg_trip_seconds')) # Calculating average seconds from filtered dataframe \"answer\"\n",
    "avg_miles = answer.agg(sqlfunc.avg('trip_miles').alias('avg_trip_miles')) # Calculating average miles from filtered dataframe \"answer\"\n",
    "avg_fare = answer.agg(sqlfunc.avg('fare').alias('avg_fare')) # Calculating average fare from filtered dataframe \"answer\""
   ]
  },
  {
   "cell_type": "markdown",
   "metadata": {},
   "source": [
    "#### Adding index values to the three dataframes so I can merge them using outerjoin on that value & get desired format"
   ]
  },
  {
   "cell_type": "code",
   "execution_count": 5,
   "metadata": {},
   "outputs": [],
   "source": [
    "i_sec = avg_seconds.withColumn(\"index\",idd()) \n",
    "i_miles = avg_miles.withColumn(\"index\", idd())\n",
    "i_fare = avg_fare.withColumn(\"index\", idd())"
   ]
  },
  {
   "cell_type": "code",
   "execution_count": 6,
   "metadata": {},
   "outputs": [
    {
     "name": "stdout",
     "output_type": "stream",
     "text": [
      "+------------------+------------------+-----------------+\n",
      "|  avg_trip_seconds|    avg_trip_miles|         avg_fare|\n",
      "+------------------+------------------+-----------------+\n",
      "|1831.5329295987888|12.164659434914222|32.80173309788092|\n",
      "+------------------+------------------+-----------------+\n",
      "\n"
     ]
    }
   ],
   "source": [
    "temp1 = i_sec.join(i_miles, on='index', how='outer')\n",
    "temp2 = temp1.join(i_fare, on='index', how='outer')\n",
    "final = temp2.drop('index')\n",
    "final.show()"
   ]
  }
 ],
 "metadata": {
  "kernelspec": {
   "display_name": "Python 3",
   "language": "python",
   "name": "python3"
  },
  "language_info": {
   "codemirror_mode": {
    "name": "ipython",
    "version": 3
   },
   "file_extension": ".py",
   "mimetype": "text/x-python",
   "name": "python",
   "nbconvert_exporter": "python",
   "pygments_lexer": "ipython3",
   "version": "3.8.5"
  }
 },
 "nbformat": 4,
 "nbformat_minor": 4
}
