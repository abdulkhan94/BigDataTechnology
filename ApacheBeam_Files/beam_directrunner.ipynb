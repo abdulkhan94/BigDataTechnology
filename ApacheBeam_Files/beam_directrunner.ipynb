{
 "cells": [
  {
   "cell_type": "code",
   "execution_count": 2,
   "metadata": {},
   "outputs": [
    {
     "name": "stdout",
     "output_type": "stream",
     "text": [
      "Python 3.7.6\n"
     ]
    }
   ],
   "source": [
    "!python --version"
   ]
  },
  {
   "cell_type": "code",
   "execution_count": 10,
   "metadata": {},
   "outputs": [
    {
     "name": "stderr",
     "output_type": "stream",
     "text": [
      "WARNING:apache_beam.io.filebasedsink:Deleting 1 existing files in target path matching: -*-of-%(num_shards)05d\n"
     ]
    }
   ],
   "source": [
    "import apache_beam as beam\n",
    "import math\n",
    "\n",
    "data = list(range(500))\n",
    "\n",
    "with beam.Pipeline('DirectRunner') as pipeline:  \n",
    "  terms = (pipeline\n",
    "     | beam.Create(data)\n",
    "  )\n",
    "\n",
    "  (terms \n",
    "     | beam.Map(lambda x: (1**x)/math.factorial(x))   \n",
    "     | beam.CombineGlobally(sum)\n",
    "     | beam.io.WriteToText('gs://abdul-dataflow/approx_e.txt')\n",
    "  )\n",
    "\n",
    "  pipeline.run()"
   ]
  },
  {
   "cell_type": "code",
   "execution_count": null,
   "metadata": {},
   "outputs": [],
   "source": []
  }
 ],
 "metadata": {
  "kernelspec": {
   "display_name": "Python 3",
   "language": "python",
   "name": "python3"
  },
  "language_info": {
   "codemirror_mode": {
    "name": "ipython",
    "version": 3
   },
   "file_extension": ".py",
   "mimetype": "text/x-python",
   "name": "python",
   "nbconvert_exporter": "python",
   "pygments_lexer": "ipython3",
   "version": "3.8.5"
  }
 },
 "nbformat": 4,
 "nbformat_minor": 4
}
